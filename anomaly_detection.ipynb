{
 "cells": [
  {
   "cell_type": "markdown",
   "metadata": {},
   "source": [
    "\n"
   ]
  },
  {
   "attachments": {},
   "cell_type": "markdown",
   "metadata": {},
   "source": [
    "# Detecting anomalies on satellite images"
   ]
  },
  {
   "attachments": {},
   "cell_type": "markdown",
   "metadata": {},
   "source": [
    "This notebook contains an algorithm for comparing images with historical data and training an AI model suited for computer vision to recognize whether the differences present areas of interest, which can then be further investigated"
   ]
  },
  {
   "cell_type": "markdown",
   "metadata": {},
   "source": [
    "### 1. Image request"
   ]
  },
  {
   "cell_type": "markdown",
   "metadata": {},
   "source": [
    "#### Imports"
   ]
  },
  {
   "cell_type": "code",
   "execution_count": 1,
   "metadata": {},
   "outputs": [],
   "source": [
    "from mundilib import MundiCatalogue\n",
    "\n",
    "# other tools\n",
    "import cv2\n",
    "from PIL import Image\n",
    "import numpy as np\n",
    "import matplotlib.pyplot as plt\n",
    "\n",
    "from detector import AnomalyDetector\n",
    "from filter import ConvolutionalModel\n",
    "from random import randint\n",
    "from time import sleep"
   ]
  },
  {
   "attachments": {},
   "cell_type": "markdown",
   "metadata": {},
   "source": [
    "#### System mockup"
   ]
  },
  {
   "cell_type": "code",
   "execution_count": null,
   "metadata": {},
   "outputs": [],
   "source": [
    "class Drone:\n",
    "    def __init__(self, name=\"drone\"):\n",
    "        self.name = name\n",
    "\n",
    "    def go(self, location) -> bool:\n",
    "        print(f\"Flying {self.name} to {location}\")\n",
    "        sleep(1)\n",
    "        if randint(0,1) == 1:\n",
    "            print(\"Anomaly confirmed, alerting personnel\")\n",
    "            return True\n",
    "        else:\n",
    "            print(\"False alarm, returning to base\")\n",
    "            return False"
   ]
  },
  {
   "cell_type": "code",
   "execution_count": null,
   "metadata": {},
   "outputs": [],
   "source": [
    "drones = [Drone(f\"drone {i}\") for i in range(10)]"
   ]
  },
  {
   "attachments": {},
   "cell_type": "markdown",
   "metadata": {},
   "source": [
    "#### Prepare model"
   ]
  },
  {
   "cell_type": "code",
   "execution_count": null,
   "metadata": {},
   "outputs": [],
   "source": [
    "detector = AnomalyDetector()\n",
    "neural_net = ConvolutionalModel()"
   ]
  },
  {
   "cell_type": "code",
   "execution_count": null,
   "metadata": {},
   "outputs": [],
   "source": [
    "def save_historical(img):\n",
    "    detector.add_to_history(img)\n",
    "\n",
    "def satellite_register_image(img):\n",
    "\n",
    "    # find coordinates of possible areas of interest\n",
    "    bounds = detector.detect_anomalies(img)\n",
    "\n",
    "    for area in bounds:\n",
    "        area_zoom = img[area[0]:area[2], area[1]:area[3]]\n",
    "        # analyze in depth\n",
    "        prediction = neural_net.predict(area_zoom)\n",
    "        if prediction.item() == 1:\n",
    "            # send drone to investigate\n",
    "            drone =  drones[randint(0,len(drones)-1)]\n",
    "            confirmed = drone.go(area)\n",
    "            if not confirmed:\n",
    "                neural_net.reveal_classification(area_zoom, 0)\n",
    "\n"
   ]
  },
  {
   "cell_type": "markdown",
   "metadata": {},
   "source": [
    "#### Choice of satellite"
   ]
  },
  {
   "cell_type": "code",
   "execution_count": 2,
   "metadata": {},
   "outputs": [],
   "source": [
    "c = MundiCatalogue()\n",
    "wms = c.get_collection(\"Sentinel1\").mundi_wms('GRD') # choice of satellite"
   ]
  },
  {
   "cell_type": "markdown",
   "metadata": {},
   "source": [
    "#### Define WMS parameters"
   ]
  },
  {
   "cell_type": "code",
   "execution_count": 3,
   "metadata": {},
   "outputs": [],
   "source": [
    "_projection_ = 'EPSG:4326'\n",
    "_bbox_       = (32.495087,29.877812,32.558258,29.928541) # bbox Suez canal\n",
    "_time_       = '2003-03-26'\n",
    "\n",
    "_height_     = 600\n",
    "_width_      = 1200"
   ]
  },
  {
   "attachments": {},
   "cell_type": "markdown",
   "metadata": {},
   "source": [
    "#### Fetch reference images of the area"
   ]
  },
  {
   "cell_type": "code",
   "execution_count": null,
   "metadata": {},
   "outputs": [],
   "source": [
    "layers = list(wms.contents)\n",
    "\n",
    "print (wms[layers[3]].title)\n",
    "\n",
    "# getting image from 'wms'\n",
    "img1 = wms.getmap(layers = [wms[layers[3]].name],\n",
    "                         srs = _projection_,\n",
    "                         bbox = _bbox_,\n",
    "                         size = (_width_, _height_),\n",
    "                         format ='image/png',\n",
    "                         time = _time_,\n",
    "                         showlogo = False,\n",
    "                         transparent=False)\n",
    "\n",
    "#display image\n",
    "img_past = Image.open(img1)\n",
    "save_historical(img_past)\n",
    "\n",
    "_time_       = '2013-03-26'\n",
    "img2 = wms.getmap(layers = [wms[layers[3]].name],\n",
    "                         srs = _projection_,\n",
    "                         bbox = _bbox_,\n",
    "                         size = (_width_, _height_),\n",
    "                         format ='image/png',\n",
    "                         time = _time_,\n",
    "                         showlogo = False,\n",
    "                         transparent=False)\n",
    "\n",
    "# display image\n",
    "img_past = Image.open(img2)\n",
    "save_historical(img_past)\n",
    "\n"
   ]
  },
  {
   "attachments": {},
   "cell_type": "markdown",
   "metadata": {},
   "source": [
    "#### Process incoming image"
   ]
  },
  {
   "cell_type": "code",
   "execution_count": null,
   "metadata": {},
   "outputs": [],
   "source": [
    "current_time       = '2023-03-26'\n",
    "img_current = wms.getmap(layers = [wms[layers[3]].name],\n",
    "                         srs = _projection_,\n",
    "                         bbox = _bbox_,\n",
    "                         size = (_width_, _height_),\n",
    "                         format ='image/png',\n",
    "                         time = current_time,\n",
    "                         showlogo = False,\n",
    "                         transparent=False)\n",
    "\n",
    "img_past = Image.open(img_current)\n",
    "satellite_register_image(img_past)"
   ]
  }
 ],
 "metadata": {
  "kernelspec": {
   "display_name": "Python 3",
   "language": "python",
   "name": "python3"
  },
  "language_info": {
   "codemirror_mode": {
    "name": "ipython",
    "version": 3
   },
   "file_extension": ".py",
   "mimetype": "text/x-python",
   "name": "python",
   "nbconvert_exporter": "python",
   "pygments_lexer": "ipython3",
   "version": "3.7.6"
  }
 },
 "nbformat": 4,
 "nbformat_minor": 4
}
